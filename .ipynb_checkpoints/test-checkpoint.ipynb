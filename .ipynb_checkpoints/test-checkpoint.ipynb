{
 "cells": [
  {
   "cell_type": "code",
   "execution_count": 1,
   "metadata": {},
   "outputs": [],
   "source": [
    "from tweepy import OAuthHandler\n",
    "from tweepy.streaming import StreamListener\n",
    "import tweepy\n",
    "import json\n",
    "import datetime\n",
    "import pandas as pd\n",
    "import csv\n",
    "import re\n",
    "from textblob import TextBlob\n",
    "import string\n",
    "import preprocessor as p\n",
    "import os\n",
    "import time\n",
    "from twitter_scrape import TweetMiner"
   ]
  },
  {
   "cell_type": "code",
   "execution_count": 2,
   "metadata": {},
   "outputs": [],
   "source": [
    "miner=TweetMiner(result_limit = 200 )\n",
    "mined_tweets = miner.mine_user_tweets(user='DHSCgovuk', max_pages=17)\n",
    "mined_tweets_df= pd.DataFrame(mined_tweets)"
   ]
  },
  {
   "cell_type": "code",
   "execution_count": 9,
   "metadata": {},
   "outputs": [],
   "source": [
    "uk_virus_update = mined_tweets_df[mined_tweets_df['text'].str.contains(\"testing in the UK:\")]\n",
    "uk_virus_update = uk_virus_update[['retweet_count', 'text', 'created_at', 'hashtags', 'retweet_text']]"
   ]
  },
  {
   "cell_type": "code",
   "execution_count": 11,
   "metadata": {},
   "outputs": [
    {
     "data": {
      "text/plain": [
       "['UPDATE on coronavirus (#COVID19) testing in the UK:\\n\\nAs of 9am on 24 March, a total of 90,436 have been tested:\\n\\n82,359 negative.\\n8,077 positive.\\n\\nAs of 1pm, 422 patients who tested positive for coronavirus have sadly died.\\n\\nThe digital dashboard will be updated later today. https://t.co/hSFYYLIzEU',\n",
       " \"UPDATE on #COVIDー19 testing in the UK:\\n\\nToday's figures will be published later this afternoon.\\n\\nWe are working hard to provide you with the latest information and will tweet this out as soon as possible.\",\n",
       " 'UPDATE on coronavirus (#COVID19) testing in the UK:\\n\\nAs of 9am on 23 March, a total of 83,945 have been tested:\\n\\n77,295 negative.\\n6,650 positive.\\n\\nAs of 1pm, 335 patients who tested positive for coronavirus have sadly died.\\n\\nThe digital dashboard will be updated later today. https://t.co/NwiiPlZzKZ',\n",
       " \"UPDATE on #COVIDー19 testing in the UK:\\n\\nToday's figures will be published later this afternoon.\\n\\nWe are working hard to provide you with the latest information and will tweet this out as soon as possible.\",\n",
       " 'UPDATE on coronavirus (#COVID19) testing in the UK:\\n\\nAs of 9am on 22 March, a total of 78,340 have been tested: \\n\\n72,657 negative.\\n5,683 positive.\\n\\n281 patients who tested positive for coronavirus (COVID-19) have sadly died. \\n\\nThe digital dashboard will be updated later today. https://t.co/XfwLQdMQTF',\n",
       " \"UPDATE on #COVID19 testing in the UK:\\n\\nToday's figures will be published later today.\\n\\nWe are working hard to provide you with the latest information and will tweet this out as soon as possible.\",\n",
       " 'UPDATE on coronavirus (#COVID19) testing in the UK:\\n \\nAs of 9am on 21 March, a total of 72,818 have been tested: \\n \\n67,800 negative.\\n5,018 positive.\\n \\nAs of 9am, 233 patients who tested positive for coronavirus have sadly died.\\n \\nThe digital dashboard will be updated later today. https://t.co/BqIBXZrOQW',\n",
       " \"UPDATE on #COVIDー19 testing in the UK:\\n\\nToday's figures will be published later today.\\n\\nWe are working hard to provide you with the latest information and will tweet this out as soon as possible.\",\n",
       " 'UPDATE on coronavirus (#COVID19) testing in the UK:\\n \\nAs of 9am on 20 March, a total of 66,976 have been tested: \\n \\n62,993 negative.\\n3,983 positive.\\n \\nAs of 1pm, 177 patients who tested positive for coronavirus have sadly died.\\n \\nThe digital dashboard will be updated later today. https://t.co/rnbSirfC1K',\n",
       " \"UPDATE on #COVIDー19 testing in the UK:\\n\\nToday's figures will be published later today.\\n\\nWe are working hard to provide you with the latest information and will tweet this out as soon as possible.\",\n",
       " 'UPDATE on coronavirus (#COVID19) testing in the UK:\\n\\nAs of 1pm on 19 March, a total of 64,621 have been tested:\\n\\n61,352 negative.\\n3,269 positive.\\n\\n144 patients who tested positive for coronavirus (COVID-19) have sadly died.\\n\\nThe digital dashboard will be updated later today. https://t.co/bXPXlmOr4X',\n",
       " \"UPDATE on #COVIDー19 testing in the UK:\\n\\nToday's figures will be published later this afternoon.\\n\\nWe are working hard to provide you with the latest information and will tweet this out as soon as possible.\",\n",
       " 'UPDATE on #COVID19 testing in the UK:\\n\\nAs of 9am 18 March 2020, a total of 56,221 people have been tested:\\n\\n53,595 negative\\n2,626 positive\\n\\nThe latest confirmed number of deaths will be announced later today.\\n\\nThe digital dashboard will be updated later today. https://t.co/KlHekrj3Nx',\n",
       " 'UPDATE on coronavirus (#COVID19) testing in the UK:\\n\\nAs of 9am 17 March 2020, a total of 50,442 people have been tested:\\n\\n48,492 negative\\n1,950 positive\\n\\nThe latest confirmed number of deaths will be announced later today.\\n\\nThe digital dashboard will be updated later today. https://t.co/ob25TmIowt',\n",
       " 'UPDATE on coronavirus (#COVID19) testing in the UK:\\n\\nAs of 9am on 16 March, a total of 44,105 have been tested: \\n\\n42,562 negative.\\n1,543 positive.\\n\\n55 patients who tested positive for coronavirus (COVID-19) have sadly died.\\n\\n▶️ https://t.co/h3NNKoHUmW https://t.co/JIfVXtwDVv',\n",
       " \"UPDATE on #COVIDー19 testing in the UK:\\n\\nToday's figures will be published later this afternoon.\\n\\nWe are working hard to provide you with the latest information and will tweet this out as soon as possible.\",\n",
       " 'UPDATE on coronavirus (#COVID19) testing in the UK:\\nAs of 9am on 15 March, a total of 40,279 have been tested: \\n38,907 negative\\n1,372 positive\\n\\nAcross the UK, 35 patients who tested positive for coronavirus (COVID-19) have sadly died. https://t.co/ElnkxRnbJC',\n",
       " \"UPDATE on #COVIDー19 testing in the UK:\\n\\nToday's figures will be published later this afternoon.\\n\\nWe are working hard to provide you with the latest information and will tweet this out as soon as possible.\",\n",
       " 'UPDATE on coronavirus (#COVID19) testing in the UK:\\nAs of 9am on 14 March, a total of 37,746 have been tested: \\n\\n36,606 negative\\n1140 positive\\n\\nAcross the UK, 21 patients who tested positive for coronavirus (COVID-19) have sadly died. https://t.co/YEo5QOEGzX',\n",
       " 'UPDATE on coronavirus (#COVID19) testing in the UK:\\n\\nAs of 9am 13 March 2020, a total of 32,771 people have been tested:\\n\\n31,973 negative\\n798 positive\\n\\n10 patients who tested positive for coronavirus have sadly died.\\n\\nThe digital dashboard will be updated later today. https://t.co/Q6CP4QzDzK',\n",
       " 'UPDATE on coronavirus (#COVID19) testing in the UK:\\n\\nAs of 9am 12 March 2020, a total of 29,764 people have been tested:\\n\\n29,174 negative\\n590 positive\\n\\n8 patients who tested positive for coronavirus have sadly died.\\n\\nThe digital dashboard will be updated later today. https://t.co/6hPeNlUU7f',\n",
       " \"RT @DHSCgovuk: UPDATE on coronavirus (#COVID19) testing in the UK:\\n\\nWe've launched a tool to visualise our #coronavirus data:\\n▶️ https://t.…\",\n",
       " 'UPDATE on coronavirus (#COVID19) testing in the UK:\\n\\nAs of 9am 11 March 2020, a total of 27,476 people have been tested:\\n\\n27,020 negative\\n456 positive\\n\\n6 patients who tested positive for coronavirus have sadly died.\\n\\nThe digital dashboard will be updated later today. https://t.co/u7CQMWb6wn',\n",
       " \"UPDATE on coronavirus (#COVID19) testing in the UK:\\n\\nWe've launched a tool to visualise our #coronavirus data:\\n▶️ https://t.co/b0dia6O7d8\\n\\nThis will be updated daily with new figures and geographic splits by local authority. We're currently working on a mobile-optimised version.\",\n",
       " 'UPDATE on coronavirus (#COVID19) testing in the UK: \\n\\nAs of 9am 10 March 2020, a total of 26,261 people have been tested:\\n\\n25,888 negative.\\n373 positive.\\n\\n6 patients who tested positive for coronavirus have sadly died.\\n\\n▶️https://t.co/VdU3Lzcrhl https://t.co/YBj4AdnXEF',\n",
       " \"UPDATE on coronavirus (#COVID19) testing in the UK:\\n\\nToday's figures will be published later this afternoon.\\n\\nWe are working hard to provide you with the latest information and will tweet this out as soon as possible.\",\n",
       " 'UPDATE on coronavirus (#COVID19) testing in the UK: \\n\\nAs of 9am 9 March 2020, a total of 24,960 people have been tested:\\n\\n24,641 negative.\\n319 positive.\\n\\n3 patients who tested positive for coronavirus have sadly died.\\n\\n▶️https://t.co/VdU3Lzcrhl https://t.co/TDrhUzIEya',\n",
       " 'UPDATE on coronavirus (#COVID19) testing in the UK:\\n\\nAs of 9am 8 March 2020, a total of 23,513 people have been tested:\\n\\n23,240 negative.\\n273 positive.\\n\\n2 patients who tested positive for coronavirus has sadly died.\\n\\nFor latest information:\\n\\nhttps://t.co/e1hwL62CDI https://t.co/YCE94Cw5SR',\n",
       " 'UPDATE on coronavirus (#COVID19) testing in the UK:\\n \\nAs of 7am 7 March 2020, a total of 21,460 people have been tested:\\n \\n21,254 negative.\\n206 positive.\\n\\nTwo patients who tested positive for coronavirus have sadly died.\\n \\nFor latest information:\\n\\n➡️ https://t.co/e1hwL62CDI https://t.co/PXZwab39uR',\n",
       " 'UPDATE on coronavirus (#COVID19) testing in the UK:\\n \\nAs of 9am 6 March 2020, a total of 20,338 people have been tested:\\n \\n20,175 negative.\\n163 positive.\\n\\nOne patient who tested positive for coronavirus has sadly died.\\n \\nFor latest information:\\n\\n▶️ https://t.co/CZh5JdyN2Q https://t.co/Erw5RGiYqF',\n",
       " 'UPDATE on coronavirus (#COVID19) testing in the UK:\\n \\nAs of 9am 5 March 2020, a total of 18,083 people have been tested:\\n \\n17,968 negative.\\n115 positive.\\n \\nFor latest information and today’s regional breakdown visit:\\n▶️https://t.co/CZh5JdyN2Q https://t.co/QMrVof4XWv',\n",
       " \"UPDATE on coronavirus (#COVID19) testing in the UK:\\n\\nToday's figures will be published later this afternoon.\\n\\nWe are working hard to provide you with the latest information and will tweet this out as soon as possible.\",\n",
       " 'UPDATE on coronavirus (#COVID19) testing in the UK:\\n\\nAs of 9am 4 March 2020, a total of 16,659 people have been tested:\\n\\n16,574 negative.\\n85 positive.\\n\\nFor latest information visit:\\n▶️https://t.co/CZh5JdyN2Q https://t.co/Zlu9TSBUwH',\n",
       " 'UPDATE on coronavirus (#COVID19) testing in the UK:\\n\\nAs of 9am 3 March 2020, a total of 13,911 people have been tested:\\n\\n13,860 negative.\\n51 positive.\\n\\nFor latest information visit:\\n▶️ https://t.co/CZh5JdyN2Q https://t.co/RmYw6cNb05',\n",
       " 'UPDATE on coronavirus (#COVID19) testing in the UK:\\n\\nAs of 9am 2 March 2020, a total of 13,525 people have been tested:\\n\\n13,485 negative.\\n40 positive.\\n\\nFor latest information visit:\\n▶️ https://t.co/VdU3Lzcrhl https://t.co/pvdc5OzCLI',\n",
       " 'UPDATE on coronavirus (#COVID19) testing in the UK:\\n\\nAs of 9am 1 March 2020, a total of 11,750 people have been tested:\\n\\n11,715 negative.\\n35 positive.\\n\\nFor latest information visit:\\n➡️ https://t.co/37eu0kQ0Cd https://t.co/OiZTCJjS3o',\n",
       " 'UPDATE on coronavirus (#COVID19) testing in the UK:\\n\\nAs of 9am 29 February 2020, a total of 10,483 people have been tested:\\n\\n10,460 negative.\\n23 positive.\\n\\nFor latest information visit:\\n▶️ https://t.co/CZh5JdyN2Q https://t.co/30gqshJJYO',\n",
       " 'UPDATE on coronavirus (#COVID19) testing in the UK:\\n\\nAs of 28 February 2020, a total of 8,986 people have been tested:\\n\\n8,966 negative.\\n20 positive.\\n\\nFor latest information visit:\\nhttps://t.co/CZh5JdyN2Q https://t.co/rEeU7lGSck',\n",
       " \"UPDATE on coronavirus (#COVID19) testing in the UK:\\n\\nToday's figures will be published later this afternoon.\\n\\nWe are working hard to provide you with the latest information and will tweet this out as soon as possible.\",\n",
       " 'UPDATE on coronavirus (#COVID19) testing in the UK:\\n\\nAs of 27 February 2020, a total of 7,690 people have been tested:\\n\\n7,675 negative.\\n15 positive.\\n\\nFor latest information visit:\\n▶️https://t.co/CZh5JdQnUo https://t.co/SrTPiKrYN2',\n",
       " 'UPDATE on coronavirus (#COVID19) testing in the UK:\\n\\nAs of 26 February 2020, a total of 7,132 people have been tested:\\n\\n7,119 negative.\\n13 positive.\\n\\nFor latest information visit:\\n▶️ https://t.co/CZh5JdyN2Q https://t.co/y4jN0UwqCT',\n",
       " 'UPDATE on coronavirus (#COVID19) testing in the UK:\\n\\nAs of 25 February 2020, a total of 6,795 people have been tested:\\n\\n6,782 negative.\\n13 positive.\\n\\nAll future figures will now include the four cases from the Diamond Princess cruise ship.\\n\\n▶️https://t.co/CZh5JdyN2Q https://t.co/fNX5HdHuQi',\n",
       " \"UPDATE on coronavirus (#COVID19) testing in the UK:\\n\\nToday's figures will be published later this afternoon.\\n\\nWe are working hard to provide you with the latest information and will tweet this out as soon as possible.\\n\\nThis delay does not indicate a confirmation of any new cases.\",\n",
       " \"UPDATE on coronavirus (#COVID19) testing in the UK:\\n\\nAs of 2PM 24 February 2020, a total of 6,536 tests have concluded:\\n6,527 negative.\\n9 positive.\\n\\nThese figures don't include the four cases from the Diamond Princess cruise ship who are now in the UK. \\n\\n▶️https://t.co/CZh5JdyN2Q https://t.co/orp9FgASv3\",\n",
       " 'UPDATE on coronavirus (#COVID19) testing in the UK:\\n\\nAs of 2PM 23 February, 6,324 tests have concluded:\\n\\n6,315 were negative.\\n9 positive.\\n\\nUpdates are published at 2PM daily.\\n\\nThe figures don’t yet include the 4 confirmed cases from Japan cruise ship.\\n\\nhttps://t.co/e1hwL62CDI https://t.co/6Ig1PLRFyL',\n",
       " 'UPDATE on coronavirus (#COVID19) testing in the UK:\\n\\nAs of 2PM on Saturday 22 February 2020, a total of 6,152 tests have concluded:\\n\\n6,143 were confirmed negative.\\n9 positive.\\n\\nUpdates will be published at 2PM daily.\\n\\nFor latest information visit:\\nhttps://t.co/CZh5JdyN2Q https://t.co/mq2UUsBL4g',\n",
       " 'UPDATE on coronavirus (#COVID19) testing in the UK:\\n\\nAs of 2PM on Friday 21 February 2020, a total of 5,885 tests have concluded:\\n\\n5,876 were confirmed negative.\\n9 positive.\\n\\nUpdates will be published at 2PM daily.\\n\\nFor latest information visit:\\n▶️ https://t.co/CZh5JdyN2Q https://t.co/lX2ANY6ifg',\n",
       " 'UPDATE on coronavirus (#COVID19) testing in the UK:\\n\\nAs of 2PM on Thursday 20 February 2020, a total of 5,549 tests have concluded:\\n\\n5,540 were confirmed negative.\\n9 positive.\\n\\nUpdates will be published at 2PM daily.\\n\\nFor latest information visit:\\n▶️ https://t.co/CZh5JdyN2Q https://t.co/uIKfKJX8XI',\n",
       " 'UPDATE on coronavirus (#COVID19) testing in the UK:\\n\\nAs of 2PM on Wednesday 19 February 2020, a total of 5,216 tests have concluded:\\n\\n5,207 were confirmed negative.\\n9 positive.\\n\\nUpdates will be published at 2PM daily.\\n\\nFor latest information visit:\\n▶️ https://t.co/CZh5JdyN2Q https://t.co/8lGS6cdsrI',\n",
       " 'UPDATE on coronavirus (#COVID19) testing in the UK:\\n\\nAs of 2PM on Tuesday 18 February 2020, a total of 4,916 tests have concluded:\\n\\n4,907 were confirmed negative.\\n9 positive.\\n\\nUpdates will be published at 2PM daily.\\n\\nFor latest information visit:\\n▶️ https://t.co/VdU3Lzcrhl https://t.co/kfxhObgJj4',\n",
       " 'UPDATE on #coronavirus testing in the UK:\\n\\nAs of 2pm on Monday 17 February 2020, a total of 4,501 tests have concluded:\\n\\n4,492 were confirmed negative.\\n9 positive.\\n\\nUpdates will be published at 2pm daily.\\n\\nFor latest information visit:\\n\\nhttps://t.co/e1hwL62CDI https://t.co/lI3YbuhlJj',\n",
       " 'UPDATE on #coronavirus testing in the UK:\\n\\nAs of 2pm on Sunday 16 February 2020, a total of 3109 tests have concluded:\\n\\n3100 were confirmed negative.\\n9 positive.\\n\\nUpdates will be published at 2pm daily.\\n\\nFor latest information visit:\\n▶️https://t.co/e1hwL62CDI https://t.co/V4eawr4ou7',\n",
       " 'UPDATE on #coronavirus testing in the UK:\\n\\nAs of 2pm on Saturday 15 February 2020, a total of 2992 tests have concluded:\\n\\n2983 were confirmed negative.\\n9 positive.\\n\\nUpdates will be published at 2pm daily.\\n\\nFor latest information visit:\\n▶️https://t.co/e1hwL5L1f8 https://t.co/oAL7V76bwd',\n",
       " 'UPDATE on #coronavirus testing in the UK:\\n\\nAs of 2pm on Friday 14 February 2020, a total of 2,964 tests have concluded:\\n\\n2,955 were confirmed negative.\\n9 positive.\\n\\nUpdates will be published at 2pm daily.\\n\\nFor latest information visit:\\n▶️https://t.co/CZh5JdyN2Q https://t.co/WhplpH0YE3',\n",
       " 'UPDATE on #coronavirus testing in the UK:\\n\\nAs of 2pm on Thursday 13 February 2020, a total of 2,521 tests have concluded\\n\\n2,512 were confirmed negative\\n9 positive\\n\\nUpdates will be published at 2pm daily until further notice\\n\\nFor latest information visit\\n▶️https://t.co/CZh5JdyN2Q https://t.co/KsCpJ6RFpT',\n",
       " 'UPDATE on #coronavirus testing in the UK:\\n\\nAs of 2pm on Wednesday 12 February 2020, a total of 1,758 tests have concluded\\n\\n1,750 were confirmed negative\\n8 positive\\n\\nUpdates will be published at 2pm daily until further notice\\n\\nFor latest information visit\\n▶️https://t.co/CZh5JdyN2Q https://t.co/SYysPyjy1s',\n",
       " 'UPDATE on #coronavirus testing in the UK:\\n\\nAs of 2pm on Tuesday 11 February 2020, a total of 1,358 tests have concluded\\n\\n1,350 were confirmed negative\\n8 positive\\n\\nUpdates will be published at 2pm daily until further notice\\n\\nFor latest information visit:\\n▶️ https://t.co/CZh5JdyN2Q https://t.co/XlOoAFhHOK',\n",
       " 'UPDATE on #coronavirus testing in the UK:\\n\\nAs of 2pm on Monday 10 February 2020, a total of 1,114 tests have concluded\\n\\n1,106 were confirmed negative\\n8 positive\\n\\nUpdates will be published at 2pm daily until further notice.\\n\\nFor latest information visit:\\n▶️ https://t.co/CZh5JdyN2Q https://t.co/Gk7du002Op',\n",
       " 'UPDATE on #coronavirus testing in the UK:\\n\\nAs of 2pm on Sunday 9 February 2020, a total of 795 tests have concluded\\n\\n791 were confirmed negative.\\n4 positive.\\n\\nUpdates will be published at 2pm daily until further notice.\\n\\nFor latest information visit:\\n\\nhttps://t.co/CZh5JdyN2Q https://t.co/tTVGVE6tr4',\n",
       " 'UPDATE on #coronavirus testing in the UK:\\n\\nAs of 2pm on Saturday 8 February 2020, a total of 686 tests have concluded\\n\\n683 were confirmed negative.\\n3 positive.\\n\\nUpdates will be published at 2pm daily until further notice.\\n\\nFor latest information visit:\\n▶️ https://t.co/CZh5JdyN2Q https://t.co/B2vdGTxfuv',\n",
       " 'UPDATE on #coronavirus testing in the UK:\\n\\nAs of 2pm on Friday 7 February 2020, a total of 620 tests have concluded\\n\\n617 were confirmed negative.\\n3 positive.\\n\\nUpdates will be published at 2pm daily until further notice.\\n\\nFor latest information visit:\\n▶️ https://t.co/CZh5JdyN2Q https://t.co/bljtqZM9MI',\n",
       " 'UPDATE on #coronavirus testing in the UK:\\n\\nAs of 2pm on Thursday 6 February 2020, a total of 566 tests have concluded\\n\\n563 were confirmed negative.\\n3 positive.\\n\\nUpdates will be published at 2pm daily until further notice.\\n\\nFor latest information visit:\\n▶️ https://t.co/CZh5JdyN2Q https://t.co/vPW1VZH5hb',\n",
       " 'UPDATE on #coronavirus testing in the UK:\\n\\nAs of 2pm on Wednesday 5 February 2020, a total of 468 tests have concluded\\n\\n466 were confirmed negative.\\n2 positive.\\n\\nUpdates will be published at 2pm daily until further notice.\\n\\nFor latest information visit:\\n▶️ https://t.co/CZh5JdyN2Q https://t.co/nvtlozpxO7',\n",
       " 'UPDATE on #coronavirus testing in the UK:\\n\\nAs of 2pm on Tuesday 4 February 2020, a total of 416 tests have concluded:\\n\\n414 were confirmed negative.\\n2 positive.\\n\\nUpdates will be published at 2pm daily until further notice.\\n\\nFor latest information visit:\\n▶️ https://t.co/CZh5JdyN2Q https://t.co/RqQWvRKjti',\n",
       " 'UPDATE on #coronavirus testing in the UK:\\n\\nAs of 2pm on Monday 3 February 2020, a total of 326 tests have concluded:\\n\\n324 were confirmed negative.\\n2 positive.\\n\\nUpdates will be published at 2pm daily until further notice.\\n\\nFor latest information visit:\\n▶️ https://t.co/CZh5JdyN2Q https://t.co/CjEHY63VZL',\n",
       " 'UPDATE on #coronavirus testing in the UK:\\n\\nAs of 2pm on Sunday 2 February 2020, a total of 266 tests have concluded:\\n\\n264 were confirmed negative.\\n2 positive.\\n\\nUpdates will be published at 2pm daily until further notice.\\n\\nFor latest information visit:\\n\\nhttps://t.co/CZh5JdQnUo https://t.co/N3NjyhV142',\n",
       " 'UPDATE on #coronavirus testing in the UK:\\n\\nAs of 2pm on Saturday 1 February 2020, a total of 203 tests have concluded:\\n\\n201 were confirmed negative.\\n2 positive.\\n\\nUpdates will be published at 2pm daily until further notice.\\n\\nFor latest information visit:\\n\\nhttps://t.co/CZh5JdyN2Q https://t.co/3RXUF0M3ex',\n",
       " 'UPDATE on #coronavirus testing in the UK:\\n\\nAs of 2PM on Friday 31 January 2020, a total of 177 tests have concluded:\\n\\n175 were confirmed negative.\\n2 positive.\\n\\nUpdates will be published at 2PM daily until further notice.\\n\\nFor latest information visit:\\n▶️ https://t.co/CZh5JdyN2Q https://t.co/j0tsLpdXrb',\n",
       " 'UPDATE on #coronavirus testing in the UK:\\n\\nAs of 2PM on Thursday 30 January 2020, a total of 161 tests have concluded:\\n\\n161 were confirmed negative\\n0 positive\\n\\nUpdates will be published at 2PM daily until further notice.\\n\\nFor latest information visit:\\n▶️ https://t.co/CZh5JdyN2Q https://t.co/8gDjXAgiA9',\n",
       " 'UPDATE on #coronavirus testing in the UK:\\n\\nAs of 2pm on Wednesday 29 January 2020, a total of 130 tests have concluded:\\n\\n130 were confirmed negative\\n0 positive\\n\\nUpdates will be published at 2pm daily until further notice. https://t.co/sD5Q7XeRYP',\n",
       " 'UPDATE on #coronavirus testing in the UK:\\n\\nAs of 2PM on Tuesday 28 January 2020, a total of 97 tests have concluded:\\n\\n97 were confirmed negative\\n0 positive\\n\\nUpdated data will be published at 2PM daily until further notice.\\n\\nFor latest information visit\\n▶️ https://t.co/CZh5JdyN2Q https://t.co/k2Oo8oWu0Y',\n",
       " 'UPDATE on #coronavirus testing in the UK:\\n\\nAs of 2PM on Monday 27 January 2020, a total of 73 tests have concluded:\\n\\n73 were confirmed negative\\n0 positive\\n\\nUpdated data will be published at 2PM daily until further notice.\\n\\nFor latest information visit\\n▶️ https://t.co/CZh5JdyN2Q https://t.co/pq39TMIqUY',\n",
       " 'RT @DHSCgovuk: UPDATE on #coronavirus testing in the UK:\\n\\nAs of 2PM on Sunday 26 January 2020, a total of 52 tests have concluded:\\n\\n52 were…',\n",
       " 'UPDATE on #coronavirus testing in the UK:\\n\\nAs of 2PM on Sunday 26 January 2020, a total of 52 tests have concluded:\\n\\n52 were confirmed negative\\n0 positive\\n\\nUpdated data will be published at 2PM daily until further notice.\\n\\nFor latest information visit\\n▶️ https://t.co/CZh5JdyN2Q https://t.co/2cUKUfn6mK',\n",
       " 'RT @DHSCgovuk: UPDATE on #coronavirus testing in the UK:\\n\\nAs of 2PM on Saturday 25 January 2020, a total of 31 tests have concluded:\\n\\n31 we…',\n",
       " 'UPDATE on #coronavirus testing in the UK:\\n\\nAs of 2PM on Saturday 25 January 2020, a total of 31 tests have concluded:\\n\\n31 were confirmed negative\\n0 positive\\n\\nUpdated data will be published at 2PM daily until further notice.\\n\\nFor latest information visit\\n▶️ https://t.co/VdU3Lzcrhl https://t.co/oVSEOIgSrD']"
      ]
     },
     "execution_count": 11,
     "metadata": {},
     "output_type": "execute_result"
    }
   ],
   "source": [
    "uk_virus_update['text'].to_list()"
   ]
  },
  {
   "cell_type": "code",
   "execution_count": null,
   "metadata": {},
   "outputs": [],
   "source": []
  }
 ],
 "metadata": {
  "kernelspec": {
   "display_name": "Python 3",
   "language": "python",
   "name": "python3"
  },
  "language_info": {
   "codemirror_mode": {
    "name": "ipython",
    "version": 3
   },
   "file_extension": ".py",
   "mimetype": "text/x-python",
   "name": "python",
   "nbconvert_exporter": "python",
   "pygments_lexer": "ipython3",
   "version": "3.8.2"
  }
 },
 "nbformat": 4,
 "nbformat_minor": 4
}
