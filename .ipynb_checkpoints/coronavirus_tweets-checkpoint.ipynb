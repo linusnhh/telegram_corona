{
 "cells": [
  {
   "cell_type": "markdown",
   "metadata": {},
   "source": [
    "## Import packages"
   ]
  },
  {
   "cell_type": "code",
   "execution_count": 1,
   "metadata": {},
   "outputs": [],
   "source": [
    "from tweepy import OAuthHandler\n",
    "from tweepy.streaming import StreamListener\n",
    "import tweepy\n",
    "import json\n",
    "import datetime\n",
    "import pandas as pd\n",
    "import numpy as np\n",
    "import csv\n",
    "import re\n",
    "from textblob import TextBlob\n",
    "import schedule\n",
    "import string\n",
    "import preprocessor as p\n",
    "import os\n",
    "import time\n",
    "import nltk\n",
    "import matplotlib\n",
    "from twitter_scrape import TweetMiner\n",
    "from datetime import date\n",
    "import warnings\n",
    "import requests\n",
    "\n",
    "warnings.filterwarnings('ignore')"
   ]
  },
  {
   "cell_type": "markdown",
   "metadata": {},
   "source": [
    "## Tweets collection"
   ]
  },
  {
   "cell_type": "code",
   "execution_count": 2,
   "metadata": {},
   "outputs": [],
   "source": [
    "miner = TweetMiner(result_limit = 999) #Mine tweet. \n",
    "mined_tweets = miner.mine_user_tweets(user='DHSCgovUK', max_pages=10)\n",
    "mined_tweets_df= pd.DataFrame(mined_tweets)"
   ]
  },
  {
   "cell_type": "markdown",
   "metadata": {},
   "source": [
    "## Data cleaning"
   ]
  },
  {
   "cell_type": "code",
   "execution_count": 3,
   "metadata": {},
   "outputs": [],
   "source": [
    "virus_df = mined_tweets_df[mined_tweets_df['text'].str.contains(\"died\")] # Only include coronavirus update  \n",
    "virus_df = virus_df[['screen_name', 'created_at', 'text']].reset_index(drop=True) # Keep relevant columns. \n",
    "virus_df['date'] = virus_df.created_at.dt.strftime('%Y-%m-%d') # Get date. \n",
    "virus_df['time'] = virus_df.created_at.dt.strftime('%H:%M:%S') # Get time. "
   ]
  },
  {
   "cell_type": "code",
   "execution_count": 4,
   "metadata": {},
   "outputs": [],
   "source": [
    "update_df = virus_df.loc[(virus_df['date'] > '2020-04-05')] # Work on the latest format.\n",
    "update_df['test_cum'] = update_df.text.str.findall('\\d+(?:,\\d+)?').str[2] # Toral number \n",
    "update_df['test_daily'] = update_df.text.str.findall('\\d+(?:,\\d+)?').str[3]\n",
    "update_df['ppl_test_cum'] = update_df.text.str.findall('\\d+(?:,\\d+)?').str[5]\n",
    "update_df['ppl_confirmed_cum'] = update_df.text.str.findall('\\d+(?:,\\d+)?').str[6]\n",
    "update_df['death_cum'] = update_df.text.str.findall('\\d+(?:,\\d+)?').str[9]"
   ]
  },
  {
   "cell_type": "code",
   "execution_count": 5,
   "metadata": {},
   "outputs": [],
   "source": [
    "vis_df = update_df.drop(columns=['text', 'created_at', 'time'])\n",
    "vis_df= vis_df.stack().str.replace(',', '').unstack()\n",
    "vis_df = vis_df.apply(pd.to_numeric, errors='ignore')\n",
    "vis_df['ppl_tested_daily'] = vis_df.ppl_test_cum.diff(periods = -1).fillna(0).astype(np.int64)\n",
    "vis_df['death_daily'] = vis_df.death_cum.diff(periods=-1).fillna(0).astype(np.int64)\n",
    "vis_df['ppl_confirmed_daily'] = vis_df.ppl_confirmed_cum.diff(periods = -1).fillna(0).astype(np.int64)\n",
    "vis_df['ppl_percentage_daily'] = vis_df['ppl_confirmed_daily']/vis_df['ppl_tested_daily']\n",
    "vis_df['death_rate'] = vis_df['death_cum']/vis_df['ppl_confirmed_cum']\n",
    "vis_df['ppl_confirmed_change'] = vis_df.ppl_confirmed_daily.pct_change(periods=-1)\n",
    "vis_df['death_change'] = vis_df.death_daily.pct_change(periods=-1)\n",
    "vis_df['ppl_tested_change'] = vis_df.ppl_tested_daily.pct_change(periods=-1)"
   ]
  },
  {
   "cell_type": "code",
   "execution_count": 6,
   "metadata": {},
   "outputs": [],
   "source": [
    "latest_date = vis_df.date.iloc[0]\n",
    "yesterday = vis_df.date.iloc[1]\n",
    "ppl_test_cum = format(vis_df.ppl_test_cum.iloc[0], ',')\n",
    "ppl_confirmed_daily = format(vis_df.ppl_confirmed_daily.iloc[0], ',')\n",
    "ppl_tested_daily = format(vis_df.ppl_tested_daily.iloc[0], ',')\n",
    "yesterday_cases = format(vis_df.ppl_confirmed_daily.iloc[1], ',')\n",
    "ppl_confirmed_change = round(vis_df.ppl_confirmed_change.iloc[0]*100, 1)\n",
    "ppl_tested_change = round(vis_df.ppl_tested_change.iloc[0]*100, 1)\n",
    "death_daily = format(vis_df.death_daily.iloc[0], ',')\n",
    "death_rate = round(vis_df.death_rate.iloc[0]*100, 1)\n",
    "death_cum = format(vis_df.death_cum.iloc[0], ',')\n",
    "death_change = round(vis_df.death_change.iloc[0]*100, 1)"
   ]
  },
  {
   "cell_type": "code",
   "execution_count": 7,
   "metadata": {},
   "outputs": [
    {
     "name": "stdout",
     "output_type": "stream",
     "text": [
      "On 2020-04-22, 13,522 people are tested, a 16.3% change. So far, 411,192 people have been tested of which 4,451 tested positive today. There is a 3.5% change in confirmed cases, comparing to 4,301 cases yesterday. Death toll increased by 763 to 18,100, representing a -7.9% change. The death rate is 13.6%.\n"
     ]
    }
   ],
   "source": [
    "a = 'On {0}, {1} people are tested, a {2}% change.'.format(latest_date, ppl_tested_daily, ppl_tested_change)\n",
    "b = ' So far, {0} people have been tested of which {1} tested positive today.'.format(ppl_test_cum, ppl_confirmed_daily)\n",
    "c = ' There is a {0}% change in confirmed cases, comparing to {1} cases yesterday.'.format(ppl_confirmed_change, yesterday_cases)\n",
    "d = ' Death toll increased by {0} to {1}, representing a {2}% change. The death rate is {3}%.'.format(death_daily, death_cum, death_change,death_rate)\n",
    "e = a+b+c+d\n",
    "print (e)"
   ]
  },
  {
   "cell_type": "code",
   "execution_count": 8,
   "metadata": {},
   "outputs": [],
   "source": [
    "def telegram_bot_sendtext(bot_message):\n",
    "        bot_token = '1157266597:AAEAEJN67IFaAHuCpl43dqCg_GlBq2xKPyo'\n",
    "        bot_chatID = '@ukcoronavirusupdate'\n",
    "        send_text = 'https://api.telegram.org/bot' + bot_token + '/sendMessage?chat_id=' + bot_chatID + '&parse_mode=Markdown&text=' + bot_message\n",
    "        response = requests.get(send_text)\n"
   ]
  },
  {
   "cell_type": "code",
   "execution_count": 19,
   "metadata": {},
   "outputs": [
    {
     "name": "stdout",
     "output_type": "stream",
     "text": [
      "Official data has not been updated yet\n",
      "Latest data has already been written.\n"
     ]
    }
   ],
   "source": [
    "output_df = pd.read_csv('/Users/linusnhh/Desktop/local/Python/twitter/project_tweet/output/uk_coronavirus_stats.csv')\n",
    "if (date.today().strftime('%Y-%m-%d') == latest_date) == False:\n",
    "    print ('Official data has not been updated yet')\n",
    "if (date.today().strftime('%Y-%m-%d') != output_df.date.iloc[0]) == True: \n",
    "    print ('Latest data has already been written.')\n",
    "if date.today().strftime('%Y-%m-%d') == latest_date and date.today().strftime('%Y-%m-%d') != output_df.date.iloc[0]:\n",
    "    print('Sending message...')\n",
    "    telegram_bot_sendtext(e)\n",
    "    vis_df.to_csv('/Users/linusnhh/Desktop/local/Python/twitter/project_tweet/output/uk_coronavirus_stats.csv', index = False)\n",
    "    print('Data has been updated.')"
   ]
  },
  {
   "cell_type": "code",
   "execution_count": 17,
   "metadata": {},
   "outputs": [
    {
     "name": "stdout",
     "output_type": "stream",
     "text": [
      "official data has not been updated yet\n",
      "latest data has already been written.\n"
     ]
    }
   ],
   "source": []
  },
  {
   "cell_type": "code",
   "execution_count": null,
   "metadata": {},
   "outputs": [],
   "source": []
  },
  {
   "cell_type": "code",
   "execution_count": null,
   "metadata": {},
   "outputs": [],
   "source": []
  }
 ],
 "metadata": {
  "kernelspec": {
   "display_name": "Python 3",
   "language": "python",
   "name": "python3"
  },
  "language_info": {
   "codemirror_mode": {
    "name": "ipython",
    "version": 3
   },
   "file_extension": ".py",
   "mimetype": "text/x-python",
   "name": "python",
   "nbconvert_exporter": "python",
   "pygments_lexer": "ipython3",
   "version": "3.8.2"
  }
 },
 "nbformat": 4,
 "nbformat_minor": 4
}
